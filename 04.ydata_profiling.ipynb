{
 "cells": [
  {
   "cell_type": "markdown",
   "metadata": {},
   "source": [
    "# Automatic EDA using `ydata_profiling`"
   ]
  },
  {
   "cell_type": "markdown",
   "metadata": {},
   "source": [
    "## 1. Titanic dataset"
   ]
  },
  {
   "cell_type": "code",
   "execution_count": 2,
   "metadata": {},
   "outputs": [
    {
     "name": "stderr",
     "output_type": "stream",
     "text": [
      "c:\\Users\\Hp\\miniconda3\\envs\\ydata_profiling\\lib\\site-packages\\tqdm\\auto.py:21: TqdmWarning: IProgress not found. Please update jupyter and ipywidgets. See https://ipywidgets.readthedocs.io/en/stable/user_install.html\n",
      "  from .autonotebook import tqdm as notebook_tqdm\n"
     ]
    }
   ],
   "source": [
    "#1: Import Libraries\n",
    "import pandas as pd\n",
    "import seaborn as sns\n",
    "import ydata_profiling as yp"
   ]
  },
  {
   "cell_type": "code",
   "execution_count": 3,
   "metadata": {},
   "outputs": [],
   "source": [
    "#2: Import data from Seaborn:\n",
    "df = sns.load_dataset('titanic')"
   ]
  },
  {
   "cell_type": "code",
   "execution_count": 4,
   "metadata": {},
   "outputs": [
    {
     "name": "stderr",
     "output_type": "stream",
     "text": [
      "Summarize dataset:   0%|          | 0/20 [00:00<?, ?it/s, Describe variable:age]"
     ]
    },
    {
     "name": "stderr",
     "output_type": "stream",
     "text": [
      "Summarize dataset: 100%|██████████| 41/41 [00:35<00:00,  1.16it/s, Completed]                    \n",
      "Generate report structure: 100%|██████████| 1/1 [00:37<00:00, 37.58s/it]\n",
      "Render HTML: 100%|██████████| 1/1 [00:12<00:00, 12.78s/it]\n",
      "Export report to file: 100%|██████████| 1/1 [00:00<00:00, 27.02it/s]\n",
      "Export report to file: 100%|██████████| 1/1 [00:00<00:00, 29.42it/s]\n"
     ]
    }
   ],
   "source": [
    "#3: ydata profiling report\n",
    "\n",
    "profile = yp.ProfileReport(df)\n",
    "profile.to_file(output_file='ydata_titanic.html')  # OR \n",
    "\n",
    "profile.to_file(output_file='./outputs/04.ydata_titanic.html')"
   ]
  },
  {
   "cell_type": "markdown",
   "metadata": {},
   "source": [
    "## 2. Pakistan Poulation Dataset"
   ]
  },
  {
   "cell_type": "code",
   "execution_count": 5,
   "metadata": {},
   "outputs": [],
   "source": [
    "#1: Import data from PC\n",
    "df_pak_pop = pd.read_csv(\"./data/pakistans_population.csv\")"
   ]
  },
  {
   "cell_type": "code",
   "execution_count": 6,
   "metadata": {},
   "outputs": [
    {
     "name": "stderr",
     "output_type": "stream",
     "text": [
      "Summarize dataset:   0%|          | 0/5 [00:00<?, ?it/s]"
     ]
    },
    {
     "name": "stderr",
     "output_type": "stream",
     "text": [
      "Summarize dataset: 100%|██████████| 319/319 [05:34<00:00,  1.05s/it, Completed]                                                     \n",
      "Generate report structure: 100%|██████████| 1/1 [01:18<00:00, 78.74s/it]\n",
      "Render HTML: 100%|██████████| 1/1 [01:12<00:00, 72.12s/it]\n",
      "Export report to file: 100%|██████████| 1/1 [00:00<00:00,  2.23it/s]\n",
      "Export report to file: 100%|██████████| 1/1 [00:00<00:00,  2.03it/s]\n"
     ]
    }
   ],
   "source": [
    "#2: ydata profiling report\n",
    "\n",
    "profile = yp.ProfileReport(df_pak_pop)\n",
    "profile.to_file(output_file='ydata_titanic.html')  # OR \n",
    "\n",
    "profile.to_file(output_file='./outputs/04b.ydata_pak_pop.html')"
   ]
  }
 ],
 "metadata": {
  "kernelspec": {
   "display_name": "ydata_profiling",
   "language": "python",
   "name": "python3"
  },
  "language_info": {
   "codemirror_mode": {
    "name": "ipython",
    "version": 3
   },
   "file_extension": ".py",
   "mimetype": "text/x-python",
   "name": "python",
   "nbconvert_exporter": "python",
   "pygments_lexer": "ipython3",
   "version": "3.10.0"
  }
 },
 "nbformat": 4,
 "nbformat_minor": 2
}
