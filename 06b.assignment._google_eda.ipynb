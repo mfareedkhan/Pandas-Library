{
 "cells": [
  {
   "cell_type": "markdown",
   "metadata": {},
   "source": [
    "# Assignment: Google Playstore EDA\n",
    "### Description: \n",
    "- While performing EDA, we found out that three columns are not showing as numeric variables.\\\n",
    "  \n",
    "  Columns (with anomilies):\n",
    "    1. Size\n",
    "    2. Install \n",
    "    3. Price\n",
    "- These columns have some anomalies ('free' / '+' sign / M & K symbols), which converts the whole column into categorical data type\n",
    "\n",
    "### Goal:\n",
    "- The goal of this assignment is to write down all the numeric variables and convert them into numeric\n",
    "- Remove anomalies from above mentioned columns\n"
   ]
  },
  {
   "cell_type": "code",
   "execution_count": 1,
   "metadata": {},
   "outputs": [],
   "source": [
    "#1: Import Libraries\n",
    "\n",
    "import pandas as pd\n",
    "import numpy as np\n",
    "import matplotlib.pyplot as plt \n",
    "import seaborn as sns"
   ]
  },
  {
   "cell_type": "code",
   "execution_count": 2,
   "metadata": {},
   "outputs": [],
   "source": [
    "#2:Import Data \n",
    "df = pd.read_csv('./data/google_playstore.csv')"
   ]
  },
  {
   "cell_type": "markdown",
   "metadata": {},
   "source": [
    "## 1. Size\n",
    "\n",
    "1. We've two units 'MBs (M)' & 'KBs (K)' ==> We need to convert 'K' into 'M'\n",
    "2. Then remove ‘M’ from the column\n",
    "3. Check how many MBs are there in one KB? and how to calculate?\n",
    "   - Convert KBs into MBs\n",
    "   - Then remove 'M' from all numbers\n",
    "   - Handle `varies with device`\n",
    " \n",
    "\n"
   ]
  },
  {
   "cell_type": "code",
   "execution_count": 3,
   "metadata": {},
   "outputs": [
    {
     "data": {
      "text/plain": [
       "Size\n",
       "Varies with device    1695\n",
       "11M                    198\n",
       "12M                    196\n",
       "14M                    194\n",
       "13M                    191\n",
       "                      ... \n",
       "429k                     1\n",
       "200k                     1\n",
       "460k                     1\n",
       "728k                     1\n",
       "619k                     1\n",
       "Name: count, Length: 462, dtype: int64"
      ]
     },
     "execution_count": 3,
     "metadata": {},
     "output_type": "execute_result"
    }
   ],
   "source": [
    "df['Size'].value_counts()"
   ]
  },
  {
   "cell_type": "code",
   "execution_count": null,
   "metadata": {},
   "outputs": [],
   "source": []
  }
 ],
 "metadata": {
  "kernelspec": {
   "display_name": "python_eda",
   "language": "python",
   "name": "python3"
  },
  "language_info": {
   "codemirror_mode": {
    "name": "ipython",
    "version": 3
   },
   "file_extension": ".py",
   "mimetype": "text/x-python",
   "name": "python",
   "nbconvert_exporter": "python",
   "pygments_lexer": "ipython3",
   "version": "3.11.5"
  }
 },
 "nbformat": 4,
 "nbformat_minor": 2
}
