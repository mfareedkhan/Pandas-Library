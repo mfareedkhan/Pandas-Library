{
 "cells": [
  {
   "cell_type": "markdown",
   "metadata": {},
   "source": [
    "# Removing Outliers:"
   ]
  },
  {
   "cell_type": "code",
   "execution_count": 1,
   "metadata": {},
   "outputs": [],
   "source": [
    "import seaborn as sns\n",
    "import pandas as pd"
   ]
  },
  {
   "cell_type": "code",
   "execution_count": 2,
   "metadata": {},
   "outputs": [],
   "source": [
    "# Load the titanic dataset\n",
    "titanic = sns.load_dataset('titanic')"
   ]
  },
  {
   "cell_type": "code",
   "execution_count": 3,
   "metadata": {},
   "outputs": [
    {
     "name": "stdout",
     "output_type": "stream",
     "text": [
      "   survived  pclass     sex   age  sibsp  parch     fare embarked  class  \\\n",
      "0         0       3    male  22.0      1      0   7.2500        S  Third   \n",
      "1         1       1  female  38.0      1      0  71.2833        C  First   \n",
      "2         1       3  female  26.0      0      0   7.9250        S  Third   \n",
      "3         1       1  female  35.0      1      0  53.1000        S  First   \n",
      "4         0       3    male  35.0      0      0   8.0500        S  Third   \n",
      "\n",
      "     who  adult_male deck  embark_town alive  alone  \n",
      "0    man        True  NaN  Southampton    no  False  \n",
      "1  woman       False    C    Cherbourg   yes  False  \n",
      "2  woman       False  NaN  Southampton   yes   True  \n",
      "3  woman       False    C  Southampton   yes  False  \n",
      "4    man        True  NaN  Southampton    no   True  \n"
     ]
    }
   ],
   "source": [
    "# Display the first 5 rows of the dataset\n",
    "print(titanic.head())"
   ]
  },
  {
   "cell_type": "code",
   "execution_count": 10,
   "metadata": {},
   "outputs": [],
   "source": [
    "# Calculate the IQR for 'age' column:\n",
    "Q1 = titanic['age'].quantile(0.25)\n",
    "Q3 = titanic['age'].quantile(0.75)\n",
    "IQR = Q3 - Q1"
   ]
  },
  {
   "cell_type": "code",
   "execution_count": 14,
   "metadata": {},
   "outputs": [
    {
     "name": "stdout",
     "output_type": "stream",
     "text": [
      "     survived  pclass   sex   age  sibsp  parch     fare embarked   class  \\\n",
      "33          0       2  male  66.0      0      0  10.5000        S  Second   \n",
      "54          0       1  male  65.0      0      1  61.9792        C   First   \n",
      "96          0       1  male  71.0      0      0  34.6542        C   First   \n",
      "116         0       3  male  70.5      0      0   7.7500        Q   Third   \n",
      "280         0       3  male  65.0      0      0   7.7500        Q   Third   \n",
      "456         0       1  male  65.0      0      0  26.5500        S   First   \n",
      "493         0       1  male  71.0      0      0  49.5042        C   First   \n",
      "630         1       1  male  80.0      0      0  30.0000        S   First   \n",
      "672         0       2  male  70.0      0      0  10.5000        S  Second   \n",
      "745         0       1  male  70.0      1      1  71.0000        S   First   \n",
      "851         0       3  male  74.0      0      0   7.7750        S   Third   \n",
      "\n",
      "     who  adult_male deck  embark_town alive  alone  \n",
      "33   man        True  NaN  Southampton    no   True  \n",
      "54   man        True    B    Cherbourg    no  False  \n",
      "96   man        True    A    Cherbourg    no   True  \n",
      "116  man        True  NaN   Queenstown    no   True  \n",
      "280  man        True  NaN   Queenstown    no   True  \n",
      "456  man        True    E  Southampton    no   True  \n",
      "493  man        True  NaN    Cherbourg    no   True  \n",
      "630  man        True    A  Southampton   yes   True  \n",
      "672  man        True  NaN  Southampton    no   True  \n",
      "745  man        True    B  Southampton    no  False  \n",
      "851  man        True  NaN  Southampton    no   True  \n"
     ]
    }
   ],
   "source": [
    "# Define bounds for outliers:\n",
    "lower_bound = Q1 - 1.5 * IQR\n",
    "upper_bound = Q3 + 1.5 * IQR\n",
    "outliers_age = titanic[(titanic['age'] < lower_bound) | (titanic['age'] > upper_bound)]\n",
    "print(outliers_age)"
   ]
  },
  {
   "cell_type": "code",
   "execution_count": 12,
   "metadata": {},
   "outputs": [],
   "source": [
    "# Remove outliers:\n",
    "titanic_no_outliers = titanic[(titanic['age'] >= lower_bound) & (titanic['age'] <= upper_bound)]"
   ]
  },
  {
   "cell_type": "code",
   "execution_count": 13,
   "metadata": {},
   "outputs": [
    {
     "name": "stdout",
     "output_type": "stream",
     "text": [
      "   survived  pclass     sex   age  sibsp  parch     fare embarked  class  \\\n",
      "0         0       3    male  22.0      1      0   7.2500        S  Third   \n",
      "1         1       1  female  38.0      1      0  71.2833        C  First   \n",
      "2         1       3  female  26.0      0      0   7.9250        S  Third   \n",
      "3         1       1  female  35.0      1      0  53.1000        S  First   \n",
      "4         0       3    male  35.0      0      0   8.0500        S  Third   \n",
      "\n",
      "     who  adult_male deck  embark_town alive  alone  \n",
      "0    man        True  NaN  Southampton    no  False  \n",
      "1  woman       False    C    Cherbourg   yes  False  \n",
      "2  woman       False  NaN  Southampton   yes   True  \n",
      "3  woman       False    C  Southampton   yes  False  \n",
      "4    man        True  NaN  Southampton    no   True  \n"
     ]
    }
   ],
   "source": [
    "# Display the first 5 rows of the dataset after removing outliers\n",
    "print(titanic_no_outliers.head())"
   ]
  }
 ],
 "metadata": {
  "kernelspec": {
   "display_name": "base",
   "language": "python",
   "name": "python3"
  },
  "language_info": {
   "codemirror_mode": {
    "name": "ipython",
    "version": 3
   },
   "file_extension": ".py",
   "mimetype": "text/x-python",
   "name": "python",
   "nbconvert_exporter": "python",
   "pygments_lexer": "ipython3",
   "version": "3.11.5"
  }
 },
 "nbformat": 4,
 "nbformat_minor": 2
}
